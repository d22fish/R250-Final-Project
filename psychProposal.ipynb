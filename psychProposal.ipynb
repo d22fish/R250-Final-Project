{
 "cells": [
  {
   "cell_type": "markdown",
   "metadata": {},
   "source": [
    "## Import Packages"
   ]
  },
  {
   "cell_type": "code",
   "execution_count": 348,
   "metadata": {},
   "outputs": [],
   "source": [
    "import pandas as pd\n",
    "import numpy as np\n",
    "import matplotlib.pyplot as plt\n",
    "from sklearn.decomposition import PCA\n",
    "from sklearn.cluster import KMeans\n",
    "from sklearn.cluster import AgglomerativeClustering\n",
    "from sklearn import svm\n",
    "from sklearn.model_selection import train_test_split\n",
    "import hdbscan\n",
    "from sklearn.manifold import TSNE\n",
    "import seaborn as sns"
   ]
  },
  {
   "cell_type": "markdown",
   "metadata": {},
   "source": [
    "## Import Datasets"
   ]
  },
  {
   "cell_type": "code",
   "execution_count": 2,
   "metadata": {},
   "outputs": [],
   "source": [
    "connectivity_data = np.genfromtxt('Cowork data-20210221/COBRE_fmri_connectivity.csv', delimiter=',')\n",
    "demographics = pd.read_csv('Cowork data-20210221/COBRE_demographics.csv')\n",
    "regions = pd.read_csv('Cowork data-20210221/COBRE_fmri_regions.csv')\n",
    "thickness = pd.read_csv('Cowork data-20210221/COBRE_cortical_thickness.csv')"
   ]
  },
  {
   "cell_type": "markdown",
   "metadata": {},
   "source": [
    "## Preprocess/Reformat Data"
   ]
  },
  {
   "cell_type": "code",
   "execution_count": 3,
   "metadata": {},
   "outputs": [],
   "source": [
    "#Reshape matrix to be 3d\n",
    "cd = np.zeros([connectivity_data.shape[0], 293, 293])\n",
    "i = 0\n",
    "for row in connectivity_data:\n",
    "    cd[i] = (np.reshape(row,[293,293]))\n",
    "    i+=1"
   ]
  },
  {
   "cell_type": "code",
   "execution_count": 4,
   "metadata": {},
   "outputs": [],
   "source": [
    "#Remove regions not in 293\n",
    "x = thickness.columns.tolist()\n",
    "for i in range(0,len(x)):\n",
    "    x[i] = x[i].split('_thickness')[0]\n",
    "thickness.columns = x\n",
    "thickness = thickness[regions['Region_name'].to_list()]"
   ]
  },
  {
   "cell_type": "code",
   "execution_count": 5,
   "metadata": {},
   "outputs": [],
   "source": [
    "#Fill NANs with 0\n",
    "demographics['PANSS_total'] = demographics['PANSS_total'].fillna(0)"
   ]
  },
  {
   "cell_type": "code",
   "execution_count": 6,
   "metadata": {},
   "outputs": [],
   "source": [
    "schiz = np.where(demographics['labels'] == 1)\n",
    "noSchiz = np.where(demographics['labels'] == -1)\n",
    "cdSchiz = cd[schiz]\n",
    "cdNoSchiz = cd[noSchiz]\n",
    "cdFullSchiz = connectivity_data[schiz]"
   ]
  },
  {
   "cell_type": "markdown",
   "metadata": {},
   "source": [
    "## Reduce Dimensionality with PCA or CCA"
   ]
  },
  {
   "cell_type": "code",
   "execution_count": 100,
   "metadata": {},
   "outputs": [
    {
     "data": {
      "text/plain": [
       "[<matplotlib.lines.Line2D at 0x7f42f05bc490>]"
      ]
     },
     "execution_count": 100,
     "metadata": {},
     "output_type": "execute_result"
    },
    {
     "data": {
      "image/png": "[encoded data removed]",
      "text/plain": [
       "<Figure size 432x288 with 1 Axes>"
      ]
     },
     "metadata": {
      "needs_background": "light"
     },
     "output_type": "display_data"
    }
   ],
   "source": [
    "u,s,vh = np.linalg.svd(cd[0])\n",
    "plt.xlim(0,10)\n",
    "plt.ylabel('Value')\n",
    "plt.xlabel('Principle Component')\n",
    "plt.plot(s)"
   ]
  },
  {
   "cell_type": "code",
   "execution_count": 9,
   "metadata": {},
   "outputs": [
    {
     "name": "stdout",
     "output_type": "stream",
     "text": [
      "[0.04928666869926218, 0.04970292813911701, 0.05012713745439301, 0.050564890468540756, 0.05111477492344209, 0.05166521467782496, 0.05223214352637655, 0.05288918754095523, 0.053652282312125044, 0.05453123512250542, 0.05555978883427411, 0.05737826174789283, 0.05944470602084341, 0.062001142290425255, 0.06519793993865164]\n"
     ]
    },
    {
     "data": {
      "text/plain": [
       "[<matplotlib.lines.Line2D at 0x7f42f20e9160>]"
      ]
     },
     "execution_count": 9,
     "metadata": {},
     "output_type": "execute_result"
    },
    {
     "data": {
      "image/png": "[encoded data removed]",
      "text/plain": [
       "<Figure size 432x288 with 1 Axes>"
      ]
     },
     "metadata": {
      "needs_background": "light"
     },
     "output_type": "display_data"
    }
   ],
   "source": [
    "def rmse(A,Ahat):\n",
    "    Atilde=A-Ahat\n",
    "    Atilde=Atilde*Atilde #elementwise multiplication\n",
    "    (n,m)=Atilde.shape\n",
    "    mse=sum(sum(Atilde))/(n*m)\n",
    "    return np.sqrt(mse)\n",
    "            \n",
    "\n",
    "numPCs=range(15,0,-1)\n",
    "u,s,vh = np.linalg.svd(cd[0])\n",
    "lenS=len(s)\n",
    "rmses=[]\n",
    "for numPC in numPCs:\n",
    "    s[numPC:]=np.zeros(lenS-numPC)\n",
    "    Sigma=np.zeros((u.shape[0],lenS))\n",
    "    Sigma[:lenS,:]=np.diag(s)\n",
    "    foodRecon=u@Sigma@vh\n",
    "    rmses.append(rmse(foodRecon,cd[0]))\n",
    "print(rmses)\n",
    "plt.plot(numPCs,rmses)"
   ]
  },
  {
   "cell_type": "code",
   "execution_count": 10,
   "metadata": {},
   "outputs": [],
   "source": [
    "reducedSchiz = PCA(n_components=5).fit_transform(cdFullSchiz)"
   ]
  },
  {
   "cell_type": "code",
   "execution_count": 38,
   "metadata": {},
   "outputs": [],
   "source": [
    "reducedAll = PCA(n_components=5).fit_transform(connectivity_data)"
   ]
  },
  {
   "cell_type": "markdown",
   "metadata": {},
   "source": [
    "## Prove Schiz and No Schiz is Separable"
   ]
  },
  {
   "cell_type": "markdown",
   "metadata": {},
   "source": [
    "## Using SVMs"
   ]
  },
  {
   "cell_type": "code",
   "execution_count": 303,
   "metadata": {},
   "outputs": [],
   "source": [
    "y = demographics['labels']\n",
    "X_train, X_test, y_train, y_test = train_test_split(reducedAll, y, test_size=0.31, random_state=42)\n",
    "y_test = np.array(y_test)"
   ]
  },
  {
   "cell_type": "code",
   "execution_count": 304,
   "metadata": {},
   "outputs": [
    {
     "name": "stdout",
     "output_type": "stream",
     "text": [
      "(102, 5) (46, 5) (102,) (46,)\n"
     ]
    }
   ],
   "source": [
    "print(X_train.shape, X_test.shape, y_train.shape, y_test.shape)"
   ]
  },
  {
   "cell_type": "code",
   "execution_count": 305,
   "metadata": {},
   "outputs": [
    {
     "name": "stdout",
     "output_type": "stream",
     "text": [
      "0.8043478260869565\n"
     ]
    }
   ],
   "source": [
    "clf = svm.SVC(C=.2, kernel='rbf')\n",
    "clf.fit(X_train, y_train)\n",
    "res = clf.predict(X_test)\n",
    "same = res == y_test\n",
    "print(clf.score(X_test, y_test))"
   ]
  },
  {
   "cell_type": "code",
   "execution_count": 130,
   "metadata": {},
   "outputs": [
    {
     "name": "stdout",
     "output_type": "stream",
     "text": [
      "[ 1  1 -1 -1 -1  1 -1  1 -1 -1  1 -1 -1 -1  1 -1 -1 -1  1 -1 -1  1 -1  1\n",
      "  1  1 -1 -1 -1  1  1 -1 -1  1  1  1 -1  1  1 -1  1  1 -1 -1 -1] \n",
      " [-1 -1 -1 -1 -1 -1 -1 -1 -1 -1  1  1 -1 -1 -1 -1 -1 -1 -1 -1  1  1 -1  1\n",
      " -1 -1 -1 -1 -1  1  1  1 -1 -1  1  1 -1  1  1 -1  1  1  1 -1 -1]\n"
     ]
    }
   ],
   "source": [
    "print(res, '\\n', y_test)"
   ]
  },
  {
   "cell_type": "markdown",
   "metadata": {},
   "source": [
    "# Using K-Means"
   ]
  },
  {
   "cell_type": "code",
   "execution_count": 104,
   "metadata": {},
   "outputs": [
    {
     "data": {
      "image/png": "[encoded data removed]",
      "text/plain": [
       "<Figure size 432x288 with 1 Axes>"
      ]
     },
     "metadata": {},
     "output_type": "display_data"
    }
   ],
   "source": [
    "kmeans=KMeans(n_clusters=2)\n",
    "s=kmeans.fit(reducedSchiz)\n",
    "labels=kmeans.labels_\n",
    "centroid=kmeans.cluster_centers_\n",
    "labels=list(labels)\n",
    "percent=[]\n",
    "for i in range(len(centroid)):\n",
    "    j=labels.count(i)\n",
    "    j=j/(len(labels))\n",
    "    percent.append(j)\n",
    "plt.pie(percent,labels=['Schizophrenic', 'Healthy'], autopct='%1.1f%%')\n",
    "plt.show()\n",
    "\n",
    "schizLabs = kmeans.labels_"
   ]
  },
  {
   "cell_type": "code",
   "execution_count": 12,
   "metadata": {},
   "outputs": [],
   "source": [
    "schizLabs = np.where(schizLabs==0)[0].tolist()\n",
    "schiz = schiz[0].tolist()"
   ]
  },
  {
   "cell_type": "code",
   "execution_count": 13,
   "metadata": {},
   "outputs": [
    {
     "name": "stdout",
     "output_type": "stream",
     "text": [
      "Percent accuracy or Schizophrenia or not: 86.57\n"
     ]
    }
   ],
   "source": [
    "print(\"Percent accuracy or Schizophrenia or not:\", round(100-len(np.intersect1d(schiz, schizLabs))/len(schiz)*100, 2))"
   ]
  },
  {
   "cell_type": "markdown",
   "metadata": {},
   "source": [
    "## Apply K-Means Clustering With Elbow Method to Determine Number of Clusters"
   ]
  },
  {
   "cell_type": "code",
   "execution_count": 112,
   "metadata": {},
   "outputs": [],
   "source": [
    "def cluster(data):\n",
    "    md=[]\n",
    "    for i in range(1,11): #TODO Tuning parameter\n",
    "        kmeans=KMeans(n_clusters=i)\n",
    "        kmeans.fit(data)\n",
    "        o=kmeans.inertia_\n",
    "        md.append(o)\n",
    "    print(md)\n",
    "\n",
    "    plt.plot(list(np.arange(1,11)),md) \n",
    "    plt.xlabel('Number of Clusters')\n",
    "    plt.ylabel('Inertia')\n",
    "    plt.show()\n",
    "\n",
    "    nClusters = 0\n",
    "    rate = [t - s for s, t in zip(md, md[1:])]\n",
    "    for i in range(0,len(rate)-1):\n",
    "        if abs(rate[i]) < 2*abs(rate[i+1]): #TODO Tuning parameter\n",
    "            nClusters = i+2\n",
    "            break\n",
    "    print(\"Number of Clusters Detected:\", nClusters)\n",
    "    \n",
    "    kmeans=KMeans(n_clusters=nClusters)\n",
    "    s=kmeans.fit(data)\n",
    "    labels=kmeans.labels_\n",
    "    centroid=kmeans.cluster_centers_\n",
    "    labels=list(labels)\n",
    "    percent=[]\n",
    "    for i in range(len(centroid)):\n",
    "        j=labels.count(i)\n",
    "        j=j/(len(labels))\n",
    "        percent.append(j)\n",
    "    plt.pie(percent,labels=['Subtype 0', 'Subtype 1', 'Subtype 2'], autopct='%1.1f%%')\n",
    "    plt.show()\n",
    "\n",
    "    kmeans.labels_\n",
    "    return kmeans.labels_"
   ]
  },
  {
   "cell_type": "code",
   "execution_count": 15,
   "metadata": {},
   "outputs": [
    {
     "data": {
      "text/plain": [
       "((148, 85849), (67, 85849), (67, 5))"
      ]
     },
     "execution_count": 15,
     "metadata": {},
     "output_type": "execute_result"
    }
   ],
   "source": [
    "(connectivity_data.shape, cdFullSchiz.shape, reducedSchiz.shape)"
   ]
  },
  {
   "cell_type": "code",
   "execution_count": 113,
   "metadata": {},
   "outputs": [
    {
     "name": "stdout",
     "output_type": "stream",
     "text": [
      "[11086.798614021292, 4870.0605085894285, 3636.1333427906934, 3009.259330577828, 2612.83798299462, 2284.1899563813417, 1999.2630527238307, 1803.136023041931, 1580.6617865003464, 1362.6940795685614]\n"
     ]
    },
    {
     "data": {
      "image/png": "[encoded data removed]",
      "text/plain": [
       "<Figure size 432x288 with 1 Axes>"
      ]
     },
     "metadata": {
      "needs_background": "light"
     },
     "output_type": "display_data"
    },
    {
     "name": "stdout",
     "output_type": "stream",
     "text": [
      "Number of Clusters Detected: 3\n"
     ]
    },
    {
     "data": {
      "image/png": "[encoded data removed]",
      "text/plain": [
       "<Figure size 432x288 with 1 Axes>"
      ]
     },
     "metadata": {},
     "output_type": "display_data"
    }
   ],
   "source": [
    "labels = cluster(reducedSchiz)"
   ]
  },
  {
   "cell_type": "markdown",
   "metadata": {},
   "source": [
    "## Soft/Fuzzy Clustering, Diagnoses should be more fluid rather than hard disctinction"
   ]
  },
  {
   "cell_type": "code",
   "execution_count": 341,
   "metadata": {},
   "outputs": [
    {
     "data": {
      "text/plain": [
       "(67, 5)"
      ]
     },
     "execution_count": 341,
     "metadata": {},
     "output_type": "execute_result"
    }
   ],
   "source": [
    "data = reducedSchiz\n",
    "projection = TSNE().fit_transform(data)\n",
    "data.shape"
   ]
  },
  {
   "cell_type": "code",
   "execution_count": 347,
   "metadata": {},
   "outputs": [
    {
     "data": {
      "image/png": "[encoded data removed]",
      "text/plain": [
       "<Figure size 432x288 with 1 Axes>"
      ]
     },
     "metadata": {
      "needs_background": "light"
     },
     "output_type": "display_data"
    }
   ],
   "source": [
    "#The data does not cluster well in 2 dimensions, so it is hard to visualize the graph\n",
    "clusterer = hdbscan.HDBSCAN(min_cluster_size=10, prediction_data=True).fit(data)\n",
    "color_palette = sns.color_palette('Paired', 12)\n",
    "cluster_colors = [color_palette[x] if x >= 0\n",
    "                  else (0.5, 0.5, 0.5)\n",
    "                  for x in clusterer.labels_]\n",
    "cluster_member_colors = [sns.desaturate(x, p) for x, p in\n",
    "                         zip(cluster_colors, clusterer.probabilities_)]\n",
    "plt.scatter(*projection.T, s=50, linewidth=0, c=cluster_member_colors, alpha=0.25)\n",
    "soft_clusters = hdbscan.all_points_membership_vectors(clusterer)"
   ]
  }
 ],
 "metadata": {
  "kernelspec": {
   "display_name": "Python 3",
   "language": "python",
   "name": "python3"
  },
  "language_info": {
   "codemirror_mode": {
    "name": "ipython",
    "version": 3
   },
   "file_extension": ".py",
   "mimetype": "text/x-python",
   "name": "python",
   "nbconvert_exporter": "python",
   "pygments_lexer": "ipython3",
   "version": "3.8.2"
  }
 },
 "nbformat": 4,
 "nbformat_minor": 4
}
